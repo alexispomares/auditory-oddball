{
 "cells": [
  {
   "cell_type": "markdown",
   "metadata": {},
   "source": [
    "# Auditory [oddball paradigm](https://en.wikipedia.org/wiki/Oddball_paradigm)  *—for EEG/Neurostimulation session*\n",
    "*Link to [GitHub repo](https://github.com/alexispomares/auditory-oddball/)*\n",
    "\n",
    "By **Alexis Pomares Pastor** - *March 2021*"
   ]
  },
  {
   "cell_type": "code",
   "execution_count": null,
   "metadata": {},
   "outputs": [],
   "source": [
    "from helper_functions import *\n",
    "\n",
    "import pygame\n",
    "from pygame.locals import *\n",
    "import numpy as np\n",
    "import pandas as pd\n",
    "import random\n",
    "import time"
   ]
  },
  {
   "cell_type": "code",
   "execution_count": null,
   "metadata": {},
   "outputs": [],
   "source": [
    "#Run this block once, to setup the parameters for the whole experimental session:\n",
    "\n",
    "n_beeps = 30              #per run\n",
    "n_runs = 10               #per whole experimental session\n",
    "beep_duration = 50        #in ms\n",
    "silence_duration = 1000   #between beeps, in ms\n",
    "standard_freq = 400       #normal sound frequency, in Hz\n",
    "oddball_freq = 1000       #odd sound frequency, in Hz\n",
    "ratio_oddball = 0.2       #proportion of oddball/standard sounds\n",
    "\n",
    "results_path = \"output data/\"       #output folder (not filename) to save results\n",
    "\n",
    "print(\"🔊 Remember to turn up computer volume to max\\n\")\n",
    "p_id = input('Participant ID: ')\n",
    "\n",
    "timings = np.zeros((n_runs, n_beeps, 2))  #initialize array to save times when sound played and when participant reacted\n",
    "sounds, oddballs = generate_sounds(n_beeps, n_runs, beep_duration, [standard_freq, oddball_freq], ratio_oddball, p_id)"
   ]
  },
  {
   "cell_type": "code",
   "execution_count": null,
   "metadata": {},
   "outputs": [],
   "source": [
    "#Run the session, and press the SPACE key after hearing any oddball sound.\n",
    "#If the session needs to be stopped, you can resume it by re-running this block with an adjusted 'start_from_run' value:\n",
    "\n",
    "results = run_session(timings, sounds, oddballs, n_beeps, n_runs, silence_duration, start_from_run = 0)"
   ]
  },
  {
   "cell_type": "code",
   "execution_count": null,
   "metadata": {},
   "outputs": [],
   "source": [
    "#Save results to an auto-named output file:\n",
    "\n",
    "filename = results_path + \"Participant {} - {}.xlsx\".format(p_id, time.strftime(\"%d%m%y_%H%M%S\"))\n",
    "results.to_excel(filename)  #save results to an Excel file\n",
    "results                     #print results for visualization"
   ]
  }
 ],
 "metadata": {
  "kernelspec": {
   "display_name": "Python 3",
   "language": "python",
   "name": "python3"
  },
  "language_info": {
   "codemirror_mode": {
    "name": "ipython",
    "version": 3
   },
   "file_extension": ".py",
   "mimetype": "text/x-python",
   "name": "python",
   "nbconvert_exporter": "python",
   "pygments_lexer": "ipython3",
   "version": "3.8.5"
  }
 },
 "nbformat": 4,
 "nbformat_minor": 4
}
